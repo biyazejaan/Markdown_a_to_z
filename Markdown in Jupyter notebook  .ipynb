{
 "cells": [
  {
   "cell_type": "markdown",
   "id": "46a2fa95",
   "metadata": {},
   "source": [
    "# Markdown in Jupyter Notebook\n",
    "01. Headings\n",
    "02. Bold\n",
    "03. Italic\n",
    "04. Bullets\n",
    "05. Numbered Lists\n",
    "06. Mathematical Symbols\n",
    "07. Indented Quoting\n",
    "08. Line Breaks\n",
    "09. Images\n",
    "10. Color\n",
    "11. Links"
   ]
  },
  {
   "cell_type": "markdown",
   "id": "c2859f6a",
   "metadata": {},
   "source": [
    "# 1. Headings\n",
    "use # followed by a blank space for notebook titles and section heading:\n",
    "# Title\n",
    "## Major Heading\n",
    "### Subheading\n",
    "#### 4th level subheading"
   ]
  },
  {
   "cell_type": "markdown",
   "id": "e95fb2ab",
   "metadata": {},
   "source": [
    "# 2. Bold\n",
    "01. use code <b> tags\n",
    "    <b> This is bold now\n",
    "02. `**` ie. double estarik\n",
    "    **This is bold text**\n",
    "03. `__` ie. 'double underscore'\n",
    "    __This is bold text__"
   ]
  },
  {
   "cell_type": "markdown",
   "id": "3f308e3c",
   "metadata": {},
   "source": [
    "# 3. Italic\n",
    "1. 'single astarik' i.e. `*`\n",
    "    *This is italic text*\n",
    "2. 'single underscore' i.e. `_`\n",
    "    _This is italic now_"
   ]
  },
  {
   "cell_type": "markdown",
   "id": "75e1b884",
   "metadata": {},
   "source": [
    "# 4. Bullets\n",
    "1. circular bullet:\n",
    "use the dash sign(-) with a space after it or use the astrik(*) with a space after it.\n",
    "2. sub bullet:\n",
    "to create a sub bullet use a fab followed a dash and a space you can use astric insted of a dash, and it works the same\n",
    "\n",
    "- this is bullet\n",
    "* this is bullet\n",
    "    - this is sub bullet\n",
    "    * this is sub bullet"
   ]
  },
  {
   "cell_type": "markdown",
   "id": "c40fb004",
   "metadata": {},
   "source": [
    "# 5. Numbered lists\n",
    "start with 1. followed by space, then starts numbering for you .\n",
    "1. Line number one\n",
    "\n",
    "    A. subline number one\n"
   ]
  },
  {
   "cell_type": "markdown",
   "id": "dd40e861",
   "metadata": {},
   "source": [
    "# 6. Mathematical Symbols\n",
    "use this code $ mathematical symbol $\n"
   ]
  },
  {
   "cell_type": "markdown",
   "id": "d10a8e4c",
   "metadata": {},
   "source": [
    "# 7. Indented quoting:\n",
    "use a greater then sighn (>) and then a space, then type text . the text is indented and has a gray horizontal line to the left of it until the text carriage return.\n",
    "> This is first line of first Blockquotes <br>\n",
    "This is the second line of first blockquotes.\n",
    "\n"
   ]
  },
  {
   "cell_type": "markdown",
   "id": "51ba58ee",
   "metadata": {},
   "source": [
    "# 8. Line Breaks:\n",
    "use code: `<br>`\n",
    "\n",
    "line break <br> line break"
   ]
  },
  {
   "cell_type": "markdown",
   "id": "d70836f9",
   "metadata": {},
   "source": [
    "# 9. Image\n",
    "just drag and drop image then it will generate a code of that image"
   ]
  },
  {
   "cell_type": "markdown",
   "id": "e2e1be64",
   "metadata": {},
   "source": [
    "# 10. Colors \n",
    "Use this code : `<font color=blue|red|green|pink|yellow>Text</font> `\n",
    "\n",
    "<font color=blue>Font color is blue</font>\n",
    "\n",
    "<font color=green>Font color is green</font>\n",
    "\n",
    "<font color=red>Font color is red</font>\n",
    "\n",
    "<font color=yellow>Font color is yellow</font>"
   ]
  },
  {
   "cell_type": "markdown",
   "id": "6e413906",
   "metadata": {},
   "source": [
    "# 11. Links\n",
    "use this code : [text will be here](http://url)"
   ]
  },
  {
   "cell_type": "code",
   "execution_count": null,
   "id": "e0d01c7d",
   "metadata": {},
   "outputs": [],
   "source": []
  },
  {
   "cell_type": "code",
   "execution_count": null,
   "id": "642ca6eb",
   "metadata": {},
   "outputs": [],
   "source": []
  },
  {
   "cell_type": "code",
   "execution_count": null,
   "id": "ca50d80e",
   "metadata": {},
   "outputs": [],
   "source": []
  }
 ],
 "metadata": {
  "kernelspec": {
   "display_name": "Python 3.10.2 64-bit",
   "language": "python",
   "name": "python3"
  },
  "language_info": {
   "codemirror_mode": {
    "name": "ipython",
    "version": 3
   },
   "file_extension": ".py",
   "mimetype": "text/x-python",
   "name": "python",
   "nbconvert_exporter": "python",
   "pygments_lexer": "ipython3",
   "version": "3.10.2"
  },
  "vscode": {
   "interpreter": {
    "hash": "56b2d59c60e4f87487f41cc5e6e8f6aa7185f560bca4a918a113fd85cb7bd9a7"
   }
  }
 },
 "nbformat": 4,
 "nbformat_minor": 5
}
